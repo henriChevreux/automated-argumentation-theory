{
 "cells": [
  {
   "cell_type": "code",
   "execution_count": null,
   "id": "0666fa23-24a3-4334-a51b-c315668a0583",
   "metadata": {},
   "outputs": [],
   "source": []
  },
  {
   "cell_type": "code",
   "execution_count": 1,
   "id": "66b65fa8",
   "metadata": {},
   "outputs": [],
   "source": [
    "# Split natural language into sentence tokens\n",
    "# Create a dataframe of the allowed combinations of sentences\n",
    "fp = \"in/ob_test.txt\"\n",
    "f = open(fp, \"r\")\n",
    "text = f.read()"
   ]
  },
  {
   "cell_type": "code",
   "execution_count": 2,
   "id": "53ac3146-9e73-4ea4-b050-1cdcfc5b4dbd",
   "metadata": {},
   "outputs": [
    {
     "name": "stderr",
     "output_type": "stream",
     "text": [
      "/Users/henrichevreux/opt/anaconda3/lib/python3.9/site-packages/scipy/__init__.py:146: UserWarning: A NumPy version >=1.16.5 and <1.23.0 is required for this version of SciPy (detected version 1.26.3\n",
      "  warnings.warn(f\"A NumPy version >={np_minversion} and <{np_maxversion}\"\n"
     ]
    },
    {
     "ename": "AttributeError",
     "evalue": "'list' object has no attribute 'unique'",
     "output_type": "error",
     "traceback": [
      "\u001b[0;31m---------------------------------------------------------------------------\u001b[0m",
      "\u001b[0;31mAttributeError\u001b[0m                            Traceback (most recent call last)",
      "Cell \u001b[0;32mIn[2], line 2\u001b[0m\n\u001b[1;32m      1\u001b[0m \u001b[38;5;28;01mfrom\u001b[39;00m \u001b[38;5;21;01mnltk\u001b[39;00m\u001b[38;5;21;01m.\u001b[39;00m\u001b[38;5;21;01mtokenize\u001b[39;00m \u001b[38;5;28;01mimport\u001b[39;00m sent_tokenize\n\u001b[0;32m----> 2\u001b[0m arguments \u001b[38;5;241m=\u001b[39m \u001b[43msent_tokenize\u001b[49m\u001b[43m(\u001b[49m\u001b[43mtext\u001b[49m\u001b[43m)\u001b[49m\u001b[38;5;241;43m.\u001b[39;49m\u001b[43munique\u001b[49m()\n\u001b[1;32m      3\u001b[0m \u001b[38;5;28mprint\u001b[39m(arguments)\n",
      "\u001b[0;31mAttributeError\u001b[0m: 'list' object has no attribute 'unique'"
     ]
    }
   ],
   "source": [
    "from nltk.tokenize import sent_tokenize\n",
    "arguments = set(sent_tokenize(text))\n",
    "print(arguments)"
   ]
  },
  {
   "cell_type": "code",
   "execution_count": null,
   "id": "ca4518c5-5cb8-479b-8b36-23d88938279d",
   "metadata": {},
   "outputs": [],
   "source": []
  },
  {
   "cell_type": "code",
   "execution_count": 3,
   "id": "cbc6b599",
   "metadata": {},
   "outputs": [
    {
     "name": "stderr",
     "output_type": "stream",
     "text": [
      "[nltk_data] Downloading package stopwords to\n",
      "[nltk_data]     /Users/henrichevreux/nltk_data...\n",
      "[nltk_data]   Package stopwords is already up-to-date!\n"
     ]
    }
   ],
   "source": [
    "import nltk\n",
    "nltk.download('stopwords')\n",
    "from nltk.corpus import stopwords\n",
    "from nltk.tokenize import word_tokenize\n",
    "\n",
    "proc_args = []\n",
    "\n",
    "# remove stopwords function\n",
    "def remove_stopwords(text):\n",
    "    stop_words = set(stopwords.words(\"english\"))\n",
    "    word_tokens = word_tokenize(text)\n",
    "    filtered_text = [word for word in word_tokens if word not in stop_words]\n",
    "    \n",
    "    return ' '.join(filtered_text)\n",
    "\n",
    "for arg in arguments:\n",
    "    proc_args.append(remove_stopwords(arg))\n"
   ]
  },
  {
   "cell_type": "code",
   "execution_count": 4,
   "id": "5e4a6467-ecb8-4735-be29-e5c1baea8f7f",
   "metadata": {},
   "outputs": [],
   "source": [
    "def text_lowercase(text):\n",
    "    return text.lower()\n",
    "\n",
    "lw_args = []\n",
    "for arg in proc_args:\n",
    "    lw_args.append(text_lowercase(arg))"
   ]
  },
  {
   "cell_type": "code",
   "execution_count": 5,
   "id": "6475f33e-4201-4fbf-8b71-e86245cb1f2e",
   "metadata": {},
   "outputs": [
    {
     "data": {
      "text/plain": [
       "['obama good president .', 'i eat lettuce everyday .']"
      ]
     },
     "execution_count": 5,
     "metadata": {},
     "output_type": "execute_result"
    }
   ],
   "source": [
    "lw_args"
   ]
  },
  {
   "cell_type": "code",
   "execution_count": 6,
   "id": "85b617cc-ad77-4ffa-bb4f-63d4cc6a5e9c",
   "metadata": {},
   "outputs": [],
   "source": [
    "import re\n",
    "re_args = []\n",
    "for arg in lw_args:\n",
    "    temp = re.sub(r'[\\W]+', ' ', arg)\n",
    "    temp = \"\".join(x for x in arg if x.isalpha() or x.isspace()).strip()\n",
    "    temp = re.sub(' +', ' ', temp)\n",
    "    re_args.append(temp)\n",
    "    "
   ]
  },
  {
   "cell_type": "code",
   "execution_count": 7,
   "id": "3c32f231-9a6b-413c-9639-8611f1fdfe7d",
   "metadata": {},
   "outputs": [
    {
     "data": {
      "text/plain": [
       "['obama good president', 'i eat lettuce everyday']"
      ]
     },
     "execution_count": 7,
     "metadata": {},
     "output_type": "execute_result"
    }
   ],
   "source": [
    "re_args"
   ]
  },
  {
   "cell_type": "code",
   "execution_count": 8,
   "id": "518573b9",
   "metadata": {},
   "outputs": [],
   "source": [
    "pairs = []\n",
    " \n",
    "# Cartesian product of arguments\n",
    "for i in range(0,len(re_args)):\n",
    "    for j in range(0,len(re_args)):\n",
    "       \n",
    "        if (i!=j):\n",
    "            pairs.append((re_args[i],re_args[j]))"
   ]
  },
  {
   "cell_type": "code",
   "execution_count": 16,
   "id": "4122188c",
   "metadata": {},
   "outputs": [
    {
     "data": {
      "text/html": [
       "<div>\n",
       "<style scoped>\n",
       "    .dataframe tbody tr th:only-of-type {\n",
       "        vertical-align: middle;\n",
       "    }\n",
       "\n",
       "    .dataframe tbody tr th {\n",
       "        vertical-align: top;\n",
       "    }\n",
       "\n",
       "    .dataframe thead th {\n",
       "        text-align: right;\n",
       "    }\n",
       "</style>\n",
       "<table border=\"1\" class=\"dataframe\">\n",
       "  <thead>\n",
       "    <tr style=\"text-align: right;\">\n",
       "      <th></th>\n",
       "      <th>argument1</th>\n",
       "      <th>argument2</th>\n",
       "    </tr>\n",
       "  </thead>\n",
       "  <tbody>\n",
       "    <tr>\n",
       "      <th>0</th>\n",
       "      <td>obama good president</td>\n",
       "      <td>i eat lettuce everyday</td>\n",
       "    </tr>\n",
       "    <tr>\n",
       "      <th>1</th>\n",
       "      <td>i eat lettuce everyday</td>\n",
       "      <td>obama good president</td>\n",
       "    </tr>\n",
       "  </tbody>\n",
       "</table>\n",
       "</div>"
      ],
      "text/plain": [
       "                argument1               argument2\n",
       "0    obama good president  i eat lettuce everyday\n",
       "1  i eat lettuce everyday    obama good president"
      ]
     },
     "execution_count": 16,
     "metadata": {},
     "output_type": "execute_result"
    }
   ],
   "source": [
    "import pandas as pd\n",
    "df = pd.DataFrame(data=pairs, columns=[\"argument1\", \"argument2\"])\n",
    "df"
   ]
  },
  {
   "cell_type": "code",
   "execution_count": 17,
   "id": "625fd4ff",
   "metadata": {},
   "outputs": [
    {
     "name": "stdout",
     "output_type": "stream",
     "text": [
      "ob_test\n"
     ]
    }
   ],
   "source": [
    "import os\n",
    "basename_without_ext = os.path.splitext(os.path.basename(fp))[0]\n",
    "print(basename_without_ext)\n",
    "df.to_csv(f\"out/{basename_without_ext}_pairs.csv\", index=False)"
   ]
  },
  {
   "cell_type": "code",
   "execution_count": 11,
   "id": "595438d7",
   "metadata": {},
   "outputs": [],
   "source": []
  },
  {
   "cell_type": "code",
   "execution_count": null,
   "id": "88c5ba67-f064-4b86-ac69-1384401b4c09",
   "metadata": {},
   "outputs": [],
   "source": []
  },
  {
   "cell_type": "code",
   "execution_count": null,
   "id": "ca3f8690-2040-48b2-a931-a44f15fc5481",
   "metadata": {},
   "outputs": [],
   "source": []
  }
 ],
 "metadata": {
  "kernelspec": {
   "display_name": "Python 3 (ipykernel)",
   "language": "python",
   "name": "python3"
  },
  "language_info": {
   "codemirror_mode": {
    "name": "ipython",
    "version": 3
   },
   "file_extension": ".py",
   "mimetype": "text/x-python",
   "name": "python",
   "nbconvert_exporter": "python",
   "pygments_lexer": "ipython3",
   "version": "3.9.12"
  }
 },
 "nbformat": 4,
 "nbformat_minor": 5
}
