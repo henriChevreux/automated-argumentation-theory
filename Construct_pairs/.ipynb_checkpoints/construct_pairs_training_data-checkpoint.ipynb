{
 "cells": [
  {
   "cell_type": "code",
   "execution_count": 10,
   "id": "0666fa23-24a3-4334-a51b-c315668a0583",
   "metadata": {},
   "outputs": [],
   "source": [
    "import numpy as np\n",
    "import pandas as pd"
   ]
  },
  {
   "cell_type": "code",
   "execution_count": 60,
   "id": "66b65fa8",
   "metadata": {},
   "outputs": [
    {
     "data": {
      "text/html": [
       "<div>\n",
       "<style scoped>\n",
       "    .dataframe tbody tr th:only-of-type {\n",
       "        vertical-align: middle;\n",
       "    }\n",
       "\n",
       "    .dataframe tbody tr th {\n",
       "        vertical-align: top;\n",
       "    }\n",
       "\n",
       "    .dataframe thead th {\n",
       "        text-align: right;\n",
       "    }\n",
       "</style>\n",
       "<table border=\"1\" class=\"dataframe\">\n",
       "  <thead>\n",
       "    <tr style=\"text-align: right;\">\n",
       "      <th></th>\n",
       "      <th>argument1</th>\n",
       "      <th>argument2</th>\n",
       "      <th>relationship</th>\n",
       "    </tr>\n",
       "  </thead>\n",
       "  <tbody>\n",
       "    <tr>\n",
       "      <th>0</th>\n",
       "      <td>\"marriage\" isn't keeping up with the times.  a...</td>\n",
       "      <td>We should abandon marriage</td>\n",
       "      <td>s</td>\n",
       "    </tr>\n",
       "    <tr>\n",
       "      <th>1</th>\n",
       "      <td>.a multi-party system would be too confusing a...</td>\n",
       "      <td>We should adopt a multi-party system</td>\n",
       "      <td>a</td>\n",
       "    </tr>\n",
       "    <tr>\n",
       "      <th>2</th>\n",
       "      <td>\\ero-tolerance policy in schools should not be...</td>\n",
       "      <td>We should adopt a zero-tolerance policy in sch...</td>\n",
       "      <td>a</td>\n",
       "    </tr>\n",
       "    <tr>\n",
       "      <th>3</th>\n",
       "      <td>`people reach their limit when it comes to the...</td>\n",
       "      <td>Assisted suicide should be a criminal offence</td>\n",
       "      <td>a</td>\n",
       "    </tr>\n",
       "    <tr>\n",
       "      <th>4</th>\n",
       "      <td>100% agree, should they do that, it would be a...</td>\n",
       "      <td>We should abolish safe spaces</td>\n",
       "      <td>s</td>\n",
       "    </tr>\n",
       "    <tr>\n",
       "      <th>...</th>\n",
       "      <td>...</td>\n",
       "      <td>...</td>\n",
       "      <td>...</td>\n",
       "    </tr>\n",
       "    <tr>\n",
       "      <th>30492</th>\n",
       "      <td>zoos trap animals into a meaningless life only...</td>\n",
       "      <td>We should abolish zoos</td>\n",
       "      <td>s</td>\n",
       "    </tr>\n",
       "    <tr>\n",
       "      <th>30493</th>\n",
       "      <td>zoos treat animals badly they should be closed...</td>\n",
       "      <td>We should abolish zoos</td>\n",
       "      <td>s</td>\n",
       "    </tr>\n",
       "    <tr>\n",
       "      <th>30494</th>\n",
       "      <td>zoos unfairly imprison animals and cause them ...</td>\n",
       "      <td>We should abolish zoos</td>\n",
       "      <td>s</td>\n",
       "    </tr>\n",
       "    <tr>\n",
       "      <th>30495</th>\n",
       "      <td>Zoos work as educational centers and are not t...</td>\n",
       "      <td>We should abolish zoos</td>\n",
       "      <td>a</td>\n",
       "    </tr>\n",
       "    <tr>\n",
       "      <th>30496</th>\n",
       "      <td>zoos work to help breed endangered species</td>\n",
       "      <td>We should abolish zoos</td>\n",
       "      <td>a</td>\n",
       "    </tr>\n",
       "  </tbody>\n",
       "</table>\n",
       "<p>30497 rows × 3 columns</p>\n",
       "</div>"
      ],
      "text/plain": [
       "                                               argument1  \\\n",
       "0      \"marriage\" isn't keeping up with the times.  a...   \n",
       "1      .a multi-party system would be too confusing a...   \n",
       "2      \\ero-tolerance policy in schools should not be...   \n",
       "3      `people reach their limit when it comes to the...   \n",
       "4      100% agree, should they do that, it would be a...   \n",
       "...                                                  ...   \n",
       "30492  zoos trap animals into a meaningless life only...   \n",
       "30493  zoos treat animals badly they should be closed...   \n",
       "30494  zoos unfairly imprison animals and cause them ...   \n",
       "30495  Zoos work as educational centers and are not t...   \n",
       "30496         zoos work to help breed endangered species   \n",
       "\n",
       "                                               argument2 relationship  \n",
       "0                             We should abandon marriage            s  \n",
       "1                   We should adopt a multi-party system            a  \n",
       "2      We should adopt a zero-tolerance policy in sch...            a  \n",
       "3          Assisted suicide should be a criminal offence            a  \n",
       "4                          We should abolish safe spaces            s  \n",
       "...                                                  ...          ...  \n",
       "30492                             We should abolish zoos            s  \n",
       "30493                             We should abolish zoos            s  \n",
       "30494                             We should abolish zoos            s  \n",
       "30495                             We should abolish zoos            a  \n",
       "30496                             We should abolish zoos            a  \n",
       "\n",
       "[30497 rows x 3 columns]"
      ]
     },
     "execution_count": 60,
     "metadata": {},
     "output_type": "execute_result"
    }
   ],
   "source": [
    "# Split natural language into sentence tokens\n",
    "# Create a dataframe of the allowed combinations of sentences\n",
    "fp = \"../Predict_relationships/model_training/training_data/IBM30K.csv\"\n",
    "df = pd.read_csv(fp)[[\"argument1\", \"argument2\", \"relationship\"]]\n",
    "df"
   ]
  },
  {
   "cell_type": "code",
   "execution_count": 61,
   "id": "53ac3146-9e73-4ea4-b050-1cdcfc5b4dbd",
   "metadata": {},
   "outputs": [
    {
     "name": "stdout",
     "output_type": "stream",
     "text": [
      "15049 15448\n"
     ]
    }
   ],
   "source": [
    "args = df[\"argument1\"]\n",
    "topics = df[\"argument2\"]\n",
    "\n",
    "attack_count = df[df['relationship'] == \"a\"].count().iloc[0]\n",
    "support_count = df[df['relationship'] == \"s\"].count().iloc[0]\n",
    "print(attack_count, support_count)\n",
    "min_arg = min(attack_count, support_count)"
   ]
  },
  {
   "cell_type": "code",
   "execution_count": 65,
   "id": "ca4518c5-5cb8-479b-8b36-23d88938279d",
   "metadata": {},
   "outputs": [
    {
     "name": "stderr",
     "output_type": "stream",
     "text": [
      "IOPub data rate exceeded.\n",
      "The Jupyter server will temporarily stop sending output\n",
      "to the client in order to avoid crashing it.\n",
      "To change this limit, set the config variable\n",
      "`--ServerApp.iopub_data_rate_limit`.\n",
      "\n",
      "Current values:\n",
      "ServerApp.iopub_data_rate_limit=1000000.0 (bytes/sec)\n",
      "ServerApp.rate_limit_window=3.0 (secs)\n",
      "\n"
     ]
    }
   ],
   "source": [
    "import random\n",
    "neutral_pairs = []\n",
    "# Function to create random pairs\n",
    "def create_random_pairs(df):\n",
    "    # Shuffle the DataFrame rows independently for both columns\n",
    "    arguments_shuffled = df['argument1'].sample(frac=1).reset_index(drop=True)\n",
    "    topics_shuffled = df['argument2'].sample(frac=1).reset_index(drop=True)\n",
    "    \n",
    "    pairs = []\n",
    "    for argument, topic in zip(arguments_shuffled, topics_shuffled):\n",
    "        # Randomly decide whether to reverse the pair\n",
    "        if random.random() < 0.5:\n",
    "            pairs.append((topic, argument))\n",
    "        else:\n",
    "            pairs.append((argument, topic))\n",
    "            \n",
    "    return pairs\n",
    "\n",
    "# Example usage\n",
    "random_pairs = create_random_pairs(df)\n",
    "print(random_pairs[100])\n",
    "n_pairs = random_pairs[:min_arg]\n",
    "n_pairs\n",
    "n_df = pd.DataFrame(n_pairs, columns=[\"argument1\", \"argument2\"])\n",
    "n_df[\"relationship\"] = \"n\"\n",
    "result_df = pd.concat([df, n_df], ignore_index=True).sample(frac=1)\n",
    "result_df\n",
    "result_df.to_csv(\"IBM30K_shuffled_n.csv\")"
   ]
  },
  {
   "cell_type": "code",
   "execution_count": 3,
   "id": "cbc6b599",
   "metadata": {},
   "outputs": [
    {
     "name": "stderr",
     "output_type": "stream",
     "text": [
      "[nltk_data] Downloading package stopwords to\n",
      "[nltk_data]     /Users/henrichevreux/nltk_data...\n",
      "[nltk_data]   Package stopwords is already up-to-date!\n"
     ]
    }
   ],
   "source": [
    "import nltk\n",
    "nltk.download('stopwords')\n",
    "from nltk.corpus import stopwords\n",
    "from nltk.tokenize import word_tokenize\n",
    "\n",
    "proc_args = []\n",
    "\n",
    "# remove stopwords function\n",
    "def remove_stopwords(text):\n",
    "    stop_words = set(stopwords.words(\"english\"))\n",
    "    word_tokens = word_tokenize(text)\n",
    "    filtered_text = [word for word in word_tokens if word not in stop_words]\n",
    "    \n",
    "    return ' '.join(filtered_text)\n",
    "\n",
    "for arg in arguments:\n",
    "    proc_args.append(remove_stopwords(arg))\n"
   ]
  },
  {
   "cell_type": "code",
   "execution_count": 4,
   "id": "5e4a6467-ecb8-4735-be29-e5c1baea8f7f",
   "metadata": {},
   "outputs": [],
   "source": [
    "def text_lowercase(text):\n",
    "    return text.lower()\n",
    "\n",
    "lw_args = []\n",
    "for arg in proc_args:\n",
    "    lw_args.append(text_lowercase(arg))"
   ]
  },
  {
   "cell_type": "code",
   "execution_count": 5,
   "id": "6475f33e-4201-4fbf-8b71-e86245cb1f2e",
   "metadata": {},
   "outputs": [
    {
     "data": {
      "text/plain": [
       "['obama good president .', 'i eat lettuce everyday .']"
      ]
     },
     "execution_count": 5,
     "metadata": {},
     "output_type": "execute_result"
    }
   ],
   "source": [
    "lw_args"
   ]
  },
  {
   "cell_type": "code",
   "execution_count": 6,
   "id": "85b617cc-ad77-4ffa-bb4f-63d4cc6a5e9c",
   "metadata": {},
   "outputs": [],
   "source": [
    "import re\n",
    "re_args = []\n",
    "for arg in lw_args:\n",
    "    temp = re.sub(r'[\\W]+', ' ', arg)\n",
    "    temp = \"\".join(x for x in arg if x.isalpha() or x.isspace()).strip()\n",
    "    temp = re.sub(' +', ' ', temp)\n",
    "    re_args.append(temp)\n",
    "    "
   ]
  },
  {
   "cell_type": "code",
   "execution_count": 7,
   "id": "3c32f231-9a6b-413c-9639-8611f1fdfe7d",
   "metadata": {},
   "outputs": [
    {
     "data": {
      "text/plain": [
       "['obama good president', 'i eat lettuce everyday']"
      ]
     },
     "execution_count": 7,
     "metadata": {},
     "output_type": "execute_result"
    }
   ],
   "source": [
    "re_args"
   ]
  },
  {
   "cell_type": "code",
   "execution_count": 8,
   "id": "518573b9",
   "metadata": {},
   "outputs": [],
   "source": [
    "pairs = []\n",
    " \n",
    "# Cartesian product of arguments\n",
    "for i in range(0,len(re_args)):\n",
    "    for j in range(0,len(re_args)):\n",
    "       \n",
    "        if (i!=j):\n",
    "            pairs.append((re_args[i],re_args[j]))"
   ]
  },
  {
   "cell_type": "code",
   "execution_count": 16,
   "id": "4122188c",
   "metadata": {},
   "outputs": [
    {
     "data": {
      "text/html": [
       "<div>\n",
       "<style scoped>\n",
       "    .dataframe tbody tr th:only-of-type {\n",
       "        vertical-align: middle;\n",
       "    }\n",
       "\n",
       "    .dataframe tbody tr th {\n",
       "        vertical-align: top;\n",
       "    }\n",
       "\n",
       "    .dataframe thead th {\n",
       "        text-align: right;\n",
       "    }\n",
       "</style>\n",
       "<table border=\"1\" class=\"dataframe\">\n",
       "  <thead>\n",
       "    <tr style=\"text-align: right;\">\n",
       "      <th></th>\n",
       "      <th>argument1</th>\n",
       "      <th>argument2</th>\n",
       "    </tr>\n",
       "  </thead>\n",
       "  <tbody>\n",
       "    <tr>\n",
       "      <th>0</th>\n",
       "      <td>obama good president</td>\n",
       "      <td>i eat lettuce everyday</td>\n",
       "    </tr>\n",
       "    <tr>\n",
       "      <th>1</th>\n",
       "      <td>i eat lettuce everyday</td>\n",
       "      <td>obama good president</td>\n",
       "    </tr>\n",
       "  </tbody>\n",
       "</table>\n",
       "</div>"
      ],
      "text/plain": [
       "                argument1               argument2\n",
       "0    obama good president  i eat lettuce everyday\n",
       "1  i eat lettuce everyday    obama good president"
      ]
     },
     "execution_count": 16,
     "metadata": {},
     "output_type": "execute_result"
    }
   ],
   "source": [
    "import pandas as pd\n",
    "df = pd.DataFrame(data=pairs, columns=[\"argument1\", \"argument2\"])\n",
    "df"
   ]
  },
  {
   "cell_type": "code",
   "execution_count": 17,
   "id": "625fd4ff",
   "metadata": {},
   "outputs": [
    {
     "name": "stdout",
     "output_type": "stream",
     "text": [
      "ob_test\n"
     ]
    }
   ],
   "source": [
    "import os\n",
    "basename_without_ext = os.path.splitext(os.path.basename(fp))[0]\n",
    "print(basename_without_ext)\n",
    "df.to_csv(f\"out/{basename_without_ext}_pairs.csv\", index=False)"
   ]
  },
  {
   "cell_type": "code",
   "execution_count": 11,
   "id": "595438d7",
   "metadata": {},
   "outputs": [],
   "source": []
  },
  {
   "cell_type": "code",
   "execution_count": null,
   "id": "88c5ba67-f064-4b86-ac69-1384401b4c09",
   "metadata": {},
   "outputs": [],
   "source": []
  },
  {
   "cell_type": "code",
   "execution_count": null,
   "id": "ca3f8690-2040-48b2-a931-a44f15fc5481",
   "metadata": {},
   "outputs": [],
   "source": []
  }
 ],
 "metadata": {
  "kernelspec": {
   "display_name": "Python 3 (ipykernel)",
   "language": "python",
   "name": "python3"
  },
  "language_info": {
   "codemirror_mode": {
    "name": "ipython",
    "version": 3
   },
   "file_extension": ".py",
   "mimetype": "text/x-python",
   "name": "python",
   "nbconvert_exporter": "python",
   "pygments_lexer": "ipython3",
   "version": "3.9.18"
  }
 },
 "nbformat": 4,
 "nbformat_minor": 5
}
