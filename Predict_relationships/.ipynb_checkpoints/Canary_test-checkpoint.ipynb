{
 "cells": [
  {
   "cell_type": "code",
   "execution_count": null,
   "id": "509e70b5-5030-49dc-a652-0bb0112f2257",
   "metadata": {},
   "outputs": [],
   "source": [
    "from canary.argument_pipeline import download_model, analyse_file\n",
    "from canary.corpora import load_corpus\n",
    "from pathlib import Path\n",
    "if __name__ == \"__main__\":\n",
    "    \n",
    "    # Download all models\n",
    "    download_model(\"all\")\n",
    "    \n",
    "    # Load version 1 of the essay corpus. \n",
    "    essays = load_corpus(\"argument_annotated_essays_1\", download_if_missing=True)\n",
    "    if essays is not None:\n",
    "        essays = [essay for essay in essays if Path(essay).suffix == \".txt\"]\n",
    "    \n",
    "        # Analyse the first essay\n",
    "        # essays[0] contains the absolute path to the first essay text file\n",
    "        analysis = analyse_file(essays[0])"
   ]
  }
 ],
 "metadata": {
  "kernelspec": {
   "display_name": "Python 3 (ipykernel)",
   "language": "python",
   "name": "python3"
  },
  "language_info": {
   "codemirror_mode": {
    "name": "ipython",
    "version": 3
   },
   "file_extension": ".py",
   "mimetype": "text/x-python",
   "name": "python",
   "nbconvert_exporter": "python",
   "pygments_lexer": "ipython3",
   "version": "3.9.18"
  }
 },
 "nbformat": 4,
 "nbformat_minor": 5
}
