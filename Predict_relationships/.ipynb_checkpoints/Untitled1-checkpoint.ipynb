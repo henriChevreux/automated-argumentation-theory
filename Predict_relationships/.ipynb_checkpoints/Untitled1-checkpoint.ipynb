{
 "cells": [
  {
   "cell_type": "code",
   "execution_count": 9,
   "id": "725097be",
   "metadata": {},
   "outputs": [
    {
     "name": "stdout",
     "output_type": "stream",
     "text": [
      "[{\"pro\": 0.9980595707893372, \"con\": 0.001877411501482129, \"neutral\": 6.30363283562474e-05}, {\"pro\": 0.0002599313447717577, \"con\": 0.9996248483657837, \"neutral\": 0.00011524751607794315}, {\"pro\": 0.852020263671875, \"con\": 0.07498589158058167, \"neutral\": 0.07299386709928513}]\n"
     ]
    }
   ],
   "source": [
    "import http.client\n",
    "import json\n",
    "conn = http.client.HTTPSConnection(\"api.ibm.com\")\n",
    "\n",
    "payload = {\n",
    "  \"sentence_topic_pairs\": [\n",
    "    [\n",
    "      \"Social media disproportionally promotes fake news.\",\n",
    "      \"Social media is harmful\"\n",
    "    ],\n",
    "    [\n",
    "      \"Social media is wonderful for human relationship\",\n",
    "      \"Social media is harmful\"\n",
    "    ],\n",
    "    [\n",
    "      \"The air in Los Angeles is clear\",\n",
    "      \"Social media is harmful\"\n",
    "    ]\n",
    "  ]\n",
    "}\n",
    "\n",
    "headers = {\n",
    "    'X-IBM-Client-Id': \"bfb19fdaab98e46c3ecbd0e7f85ce88f\",\n",
    "    'X-IBM-Client-Secret': \"a24243579984425a62752e2ca81ffba8\",\n",
    "    'content-type': \"application/json\",\n",
    "    'accept': \"application/json\"\n",
    "}\n",
    "\n",
    "conn.request(\"POST\", \"/debater/run/procon/score\", json.dumps(payload), headers)\n",
    "\n",
    "res = conn.getresponse()\n",
    "data = res.read()\n",
    "\n",
    "print(data.decode(\"utf-8\"))"
   ]
  },
  {
   "cell_type": "code",
   "execution_count": 22,
   "id": "d8c74bb6",
   "metadata": {},
   "outputs": [],
   "source": [
    "scores = json.loads(data)"
   ]
  },
  {
   "cell_type": "code",
   "execution_count": 30,
   "id": "0fd5a871",
   "metadata": {},
   "outputs": [
    {
     "name": "stdout",
     "output_type": "stream",
     "text": [
      "0\n",
      "1\n",
      "0\n"
     ]
    }
   ],
   "source": [
    "import numpy as np\n",
    "for i in range(len(scores)):\n",
    "    score = scores[i]\n",
    "    pro = score['pro']\n",
    "    con = score['con']\n",
    "    neutral = score['neutral']\n",
    "    pred = np.argmax([pro, con, neutral])\n",
    "    relationship = \"\"\n",
    "    if pred == 0:\n",
    "        relationship = \"s\"\n",
    "    elif pred == 1:\n",
    "        relationship = \"a\"\n",
    "    elif pred == 2:\n",
    "        relatinship = \"n\""
   ]
  },
  {
   "cell_type": "code",
   "execution_count": null,
   "id": "b61bf352",
   "metadata": {},
   "outputs": [],
   "source": []
  }
 ],
 "metadata": {
  "kernelspec": {
   "display_name": "Python 3 (ipykernel)",
   "language": "python",
   "name": "python3"
  },
  "language_info": {
   "codemirror_mode": {
    "name": "ipython",
    "version": 3
   },
   "file_extension": ".py",
   "mimetype": "text/x-python",
   "name": "python",
   "nbconvert_exporter": "python",
   "pygments_lexer": "ipython3",
   "version": "3.9.12"
  }
 },
 "nbformat": 4,
 "nbformat_minor": 5
}
