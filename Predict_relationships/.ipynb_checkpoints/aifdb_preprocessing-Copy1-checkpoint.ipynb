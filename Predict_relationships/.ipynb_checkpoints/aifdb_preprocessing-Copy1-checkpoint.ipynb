{
 "cells": [
  {
   "cell_type": "code",
   "execution_count": null,
   "id": "eb8622de-6505-4e8a-aad1-6826aacead63",
   "metadata": {},
   "outputs": [],
   "source": []
  },
  {
   "cell_type": "code",
   "execution_count": 39,
   "id": "043539b6",
   "metadata": {},
   "outputs": [
    {
     "name": "stdout",
     "output_type": "stream",
     "text": [
      "['../../datasets/aifdb/dbyd/', '../../datasets/aifdb/mm2012/', '../../datasets/aifdb/IAC/', '../../datasets/aifdb/US2016/', '../../datasets/aifdb/mediation/', '../../datasets/aifdb/Microtext/']\n",
      "3420\n"
     ]
    }
   ],
   "source": [
    "import os, json\n",
    "import pandas as pd\n",
    "\n",
    "path = '../../datasets/ArgumentAnnotatedEssays-2.0/brat-project-final/'\n",
    "paths_to_ann = [path + pos_ann for pos_ann in os.listdir(path) if pos_ann.endswith('.ann')]\n",
    "print(paths_to_json)"
   ]
  },
  {
   "cell_type": "code",
   "execution_count": null,
   "id": "6743094c-1ed8-49ff-8f10-7779f61dc32f",
   "metadata": {},
   "outputs": [],
   "source": []
  },
  {
   "cell_type": "code",
   "execution_count": 40,
   "id": "9303f39c",
   "metadata": {},
   "outputs": [
    {
     "name": "stdout",
     "output_type": "stream",
     "text": [
      "                                               argument1  \\\n",
      "0                 \"abrir la cueva representa un peligro\"   \n",
      "1      \"el segundo, elaborado por un equipo dirigido ...   \n",
      "2      \"{P2 A0}  When such studies are carried out on...   \n",
      "3      \"{P2 A0}  When such studies are carried out on...   \n",
      "4      \"{P3 A0}   In studying together, for example, ...   \n",
      "...                                                  ...   \n",
      "21212  \"And he always chickens out when things get di...   \n",
      "21213  \"Yesterday, when the bouncer wouldn't let us i...   \n",
      "21214  \"as the population in Germany has, viewed demo...   \n",
      "21215  \"and constantly declining birth rates are bein...   \n",
      "21216  \"Admittedly the number of immigrants is consta...   \n",
      "\n",
      "                                               argument2 relationship  \n",
      "0      \"La apertura parcial de la cueva de Altamira h...           RA  \n",
      "1      \"La apertura parcial de la cueva de Altamira h...           RA  \n",
      "2      \"{P1 A0}   Not only is it necessary in order t...           RA  \n",
      "3      \"{P3 A0}   In studying together, for example, ...           RA  \n",
      "4      \"{P4 A0}   By this method of comparative study...           RA  \n",
      "...                                                  ...          ...  \n",
      "21212  \"I think Fritz has never been in a fight in hi...           RA  \n",
      "21213  \"And he always chickens out when things get di...           RA  \n",
      "21214  \"The implementation of retirement at 63 is no ...           RA  \n",
      "21215  \"The implementation of retirement at 63 is no ...           RA  \n",
      "21216  \"The implementation of retirement at 63 is no ...           CA  \n",
      "\n",
      "[21217 rows x 3 columns]\n"
     ]
    }
   ],
   "source": [
    "import pandas as pd\n",
    "from itertools import product\n",
    "\n",
    "# CA = conflict\n",
    "# RA = support\n",
    "# TA = ?\n",
    "\n",
    "result = []\n",
    "\n",
    "\n",
    "for index, js in enumerate(json_files):\n",
    "    args = []\n",
    "    edges_list = []\n",
    "    with open(js) as json_file:\n",
    "        json_text = json.load(json_file)\n",
    "        \n",
    "        # Store nodes in a dataframe\n",
    "        nodes = json_text['nodes']\n",
    "        for node in nodes:\n",
    "            args.append([node['nodeID'], node['type'], node['text']])\n",
    "        nodes_df = pd.DataFrame(args, columns = [\"nodeID\", \"type\", \"text\"])\n",
    "\n",
    "        # Store edges in a dataframe\n",
    "        edges = json_text['edges']\n",
    "        for edge in edges:\n",
    "            edges_list.append([edge['edgeID'], edge['fromID'], edge['toID']])\n",
    "        edges_df = pd.DataFrame(edges_list, columns = [\"edgeID\", \"fromID\", \"toID\"])\n",
    "        \n",
    "        arg_nodes = nodes_df.loc[nodes_df[\"type\"].values == \"I\"]\n",
    "        \n",
    "        relationship_nodes = nodes_df.loc[(nodes_df[\"type\"].values == \"RA\") | (nodes_df[\"type\"].values == \"CA\")]\n",
    "        \n",
    "        for index, arg_row in arg_nodes.iterrows():\n",
    "            node_child_edges = edges_df.loc[edges_df[\"fromID\"] == arg_row[\"nodeID\"]]\n",
    "            for index, edge_row in node_child_edges.iterrows():\n",
    "                if edge_row[\"toID\"] in relationship_nodes[\"nodeID\"].values:\n",
    "                    # Locate with node\n",
    "                    rel_node = relationship_nodes.loc[relationship_nodes[\"nodeID\"] == edge_row[\"toID\"]]\n",
    "                    if len(rel_node[\"type\"].values) > 0:\n",
    "                        relationship = rel_node[\"type\"].values[0]\n",
    "                        # Get output node of relationship\n",
    "                        out_edge = edges_df.loc[edges_df[\"fromID\"].values == rel_node[\"nodeID\"].values]\n",
    "                        if len(out_edge[\"toID\"].values) > 0:\n",
    "                            out_node_ID = out_edge[\"toID\"].values[0]\n",
    "                            # get arguments from IDs\n",
    "                            out_node_text = arg_nodes.loc[arg_nodes[\"nodeID\"] == out_node_ID][\"text\"]\n",
    "                            if len(out_node_text.values) > 0:\n",
    "                                in_node_text = \"\\\"\" + arg_row[\"text\"] + \"\\\"\"\n",
    "                                out_node_text = \"\\\"\" + out_node_text.values[0] + \"\\\"\"\n",
    "                                result.append([in_node_text, out_node_text, relationship])                            \n",
    "                    \n",
    "        \n",
    "result_df = pd.DataFrame(result, columns = [\"argument1\", \"argument2\", \"relationship\"])\n",
    "                \n",
    "print(result_df)\n",
    "                    "
   ]
  },
  {
   "cell_type": "code",
   "execution_count": null,
   "id": "c3be98ea",
   "metadata": {},
   "outputs": [],
   "source": []
  },
  {
   "cell_type": "code",
   "execution_count": 41,
   "id": "af4cd549",
   "metadata": {},
   "outputs": [
    {
     "name": "stdout",
     "output_type": "stream",
     "text": [
      "9585\n"
     ]
    }
   ],
   "source": [
    "attack_count = result_df[result_df['relationship'] == 'CA'].count().iloc[0]\n",
    "print(attack_count)"
   ]
  },
  {
   "cell_type": "code",
   "execution_count": 42,
   "id": "56143010",
   "metadata": {},
   "outputs": [
    {
     "name": "stdout",
     "output_type": "stream",
     "text": [
      "11632\n"
     ]
    }
   ],
   "source": [
    "support_count = result_df[result_df['relationship'] == 'RA'].count().iloc[0]\n",
    "print(support_count)"
   ]
  },
  {
   "cell_type": "code",
   "execution_count": 43,
   "id": "6de88698",
   "metadata": {},
   "outputs": [
    {
     "name": "stdout",
     "output_type": "stream",
     "text": [
      "                                               argument1  \\\n",
      "0                 \"abrir la cueva representa un peligro\"   \n",
      "1      \"el segundo, elaborado por un equipo dirigido ...   \n",
      "2      \"{P2 A0}  When such studies are carried out on...   \n",
      "3      \"{P2 A0}  When such studies are carried out on...   \n",
      "4      \"{P3 A0}   In studying together, for example, ...   \n",
      "...                                                  ...   \n",
      "21212  \"And he always chickens out when things get di...   \n",
      "21213  \"Yesterday, when the bouncer wouldn't let us i...   \n",
      "21214  \"as the population in Germany has, viewed demo...   \n",
      "21215  \"and constantly declining birth rates are bein...   \n",
      "21216  \"Admittedly the number of immigrants is consta...   \n",
      "\n",
      "                                               argument2 relationship  \n",
      "0      \"La apertura parcial de la cueva de Altamira h...            s  \n",
      "1      \"La apertura parcial de la cueva de Altamira h...            s  \n",
      "2      \"{P1 A0}   Not only is it necessary in order t...            s  \n",
      "3      \"{P3 A0}   In studying together, for example, ...            s  \n",
      "4      \"{P4 A0}   By this method of comparative study...            s  \n",
      "...                                                  ...          ...  \n",
      "21212  \"I think Fritz has never been in a fight in hi...            s  \n",
      "21213  \"And he always chickens out when things get di...            s  \n",
      "21214  \"The implementation of retirement at 63 is no ...            s  \n",
      "21215  \"The implementation of retirement at 63 is no ...            s  \n",
      "21216  \"The implementation of retirement at 63 is no ...            a  \n",
      "\n",
      "[21217 rows x 3 columns]\n"
     ]
    }
   ],
   "source": [
    "# Replace aifdb relationship codes with our own\n",
    "node_attack_support_codes = [\"RA\", \"CA\"]\n",
    "\n",
    "result_df.loc[result_df[\"relationship\"] == \"RA\", \"relationship\"] = \"s\"\n",
    "result_df.loc[result_df[\"relationship\"] == \"CA\", \"relationship\"] = \"a\"\n",
    "\n",
    "print(result_df)"
   ]
  },
  {
   "cell_type": "code",
   "execution_count": null,
   "id": "28ddfa17-6437-4c0a-a9c8-d6fc21ab13ad",
   "metadata": {},
   "outputs": [],
   "source": [
    "    "
   ]
  },
  {
   "cell_type": "code",
   "execution_count": 44,
   "id": "9bbcab90",
   "metadata": {},
   "outputs": [
    {
     "name": "stdout",
     "output_type": "stream",
     "text": [
      "['\"abrir la cueva representa un peligro\"', '\"La apertura parcial de la cueva de Altamira\\xa0ha generado una intensa polémica entre los científicos que mantienen que las visitas pueden dañar las pinturas y los que defienden que su deterioro es natural, independientemente de que esté abierta o no\"', 'RA']\n"
     ]
    }
   ],
   "source": [
    "# Create neutral relationships\n",
    "\n",
    "n_pairs = []\n",
    "\n",
    "\n",
    "for i in range(attack_count):\n",
    "    sample = result_df.sample(n=2)\n",
    "    text1 = sample.iloc[0][\"argument1\"]\n",
    "    text2 = sample.iloc[1][\"argument2\"]\n",
    "    \n",
    "    pair = result_df.loc[(result_df[\"argument1\"] == text1) & (result_df[\"argument2\"] == text2)]\n",
    "    \n",
    "    \n",
    "    if len(pair) == 0:\n",
    "        n_pairs.append([text1, text2, \"n\"])\n",
    "\n",
    "n_pairs_df = pd.DataFrame(n_pairs, columns = [\"argument1\", \"argument2\", \"relationship\"])\n",
    "result_df = pd.concat([result_df, n_pairs_df], ignore_index=True)\n",
    "print(result[0])"
   ]
  },
  {
   "cell_type": "code",
   "execution_count": 45,
   "id": "9c1a4ed8",
   "metadata": {},
   "outputs": [],
   "source": [
    "# Unabstract arguments\n",
    "\n",
    "result_df.to_csv('mega_v2_relationships_cleaned.csv')"
   ]
  },
  {
   "cell_type": "code",
   "execution_count": null,
   "id": "9e723edd",
   "metadata": {},
   "outputs": [],
   "source": []
  }
 ],
 "metadata": {
  "kernelspec": {
   "display_name": "Python 3 (ipykernel)",
   "language": "python",
   "name": "python3"
  },
  "language_info": {
   "codemirror_mode": {
    "name": "ipython",
    "version": 3
   },
   "file_extension": ".py",
   "mimetype": "text/x-python",
   "name": "python",
   "nbconvert_exporter": "python",
   "pygments_lexer": "ipython3",
   "version": "3.9.12"
  }
 },
 "nbformat": 4,
 "nbformat_minor": 5
}
