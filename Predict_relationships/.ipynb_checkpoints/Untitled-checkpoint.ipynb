{
 "cells": [
  {
   "cell_type": "code",
   "execution_count": null,
   "id": "72ed9ddf-7a00-4283-a0ed-ab57f0ca65d6",
   "metadata": {},
   "outputs": [
    {
     "name": "stderr",
     "output_type": "stream",
     "text": [
      "/Users/henrichevreux/opt/anaconda3/envs/test_fyd/lib/python3.9/site-packages/tqdm/auto.py:21: TqdmWarning: IProgress not found. Please update jupyter and ipywidgets. See https://ipywidgets.readthedocs.io/en/stable/user_install.html\n",
      "  from .autonotebook import tqdm as notebook_tqdm\n",
      "2024-03-20 21:56:20.185197: I tensorflow/core/platform/cpu_feature_guard.cc:182] This TensorFlow binary is optimized to use available CPU instructions in performance-critical operations.\n",
      "To enable the following instructions: AVX2 FMA, in other operations, rebuild TensorFlow with the appropriate compiler flags.\n"
     ]
    }
   ],
   "source": [
    "from transformers import AutoTokenizer, TFRobertaModel\n",
    "import tensorflow as tf\n",
    "\n",
    "tokenizer = AutoTokenizer.from_pretrained(\"FacebookAI/roberta-base\")\n",
    "model = TFRobertaModel.from_pretrained(\"FacebookAI/roberta-base\")\n",
    "\n",
    "inputs = tokenizer(\"Hello, my dog is cute\", return_tensors=\"tf\")\n",
    "outputs = model(inputs)\n",
    "\n",
    "last_hidden_states = outputs.last_hidden_state"
   ]
  },
  {
   "cell_type": "code",
   "execution_count": null,
   "id": "f009911a-49e6-47fb-8d5a-cffafd064dd4",
   "metadata": {},
   "outputs": [],
   "source": [
    "import numpy as np\n",
    "import tensorflow as tf\n",
    "from tensorflow.keras.models import Sequential\n",
    "from tensorflow.keras.layers import LSTM, concatenate, Dense, Flatten, Embedding, Bidirectional, Dropout\n",
    "from tensorflow.keras.layers import Input\n",
    "from tensorflow.keras.models import Model"
   ]
  },
  {
   "cell_type": "code",
   "execution_count": null,
   "id": "1b830f0e-1d39-4a29-b432-44bf5f9af7d7",
   "metadata": {},
   "outputs": [],
   "source": [
    "# Import dataset\n",
    "import pandas as pd\n",
    "from IPython.display import display\n",
    "from sklearn.utils import shuffle\n",
    "\n",
    "df = pd.read_csv(r\"model_training/training_data/IBM30K_with_n_ACM.csv\")\n",
    "display(df)\n",
    "df = shuffle(df).reset_index(drop=True)\n",
    "\n",
    "attack_count = df[df['relationship'] == \"a\"].count().iloc[0]\n",
    "support_count = df[df['relationship'] == \"s\"].count().iloc[0]\n",
    "neither_count = df[df['relationship'] == \"n\"].count().iloc[0]\n",
    "\n",
    "#print(attack_count, support_count, neither_count)\n",
    "#n = np.min([attack_count, support_count, neither_count]) \n",
    "#msk = df.groupby('relationship')['relationship'].transform('size') >= n\n",
    "#df = pd.concat((df[msk].groupby('relationship').sample(n=n), df[~msk]), ignore_index=True)\n",
    "#df['relationship'].value_counts()\n",
    "\n",
    "# Split features and labels\n",
    "X = df[[\"argument1\", \"argument2\"]].T.reset_index(drop=True).T\n",
    "y = df[[\"relationship\"]].T.reset_index(drop=True).T\n",
    "\n",
    "display(X)\n",
    "display(y)"
   ]
  }
 ],
 "metadata": {
  "kernelspec": {
   "display_name": "Python 3 (ipykernel)",
   "language": "python",
   "name": "python3"
  },
  "language_info": {
   "codemirror_mode": {
    "name": "ipython",
    "version": 3
   },
   "file_extension": ".py",
   "mimetype": "text/x-python",
   "name": "python",
   "nbconvert_exporter": "python",
   "pygments_lexer": "ipython3",
   "version": "3.9.18"
  }
 },
 "nbformat": 4,
 "nbformat_minor": 5
}
